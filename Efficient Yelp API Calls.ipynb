{
 "cells": [
  {
   "cell_type": "code",
   "execution_count": 1,
   "id": "416ffcdb",
   "metadata": {},
   "outputs": [],
   "source": [
    "# Imports\n",
    "import numpy as np\n",
    "import pandas as pd\n",
    "import matplotlib.pyplot as plt\n",
    "import seaborn as sns\n",
    "\n",
    "import os, json, math, time\n",
    "from yelpapi import YelpAPI\n",
    "from tqdm.notebook import tqdm_notebook"
   ]
  },
  {
   "cell_type": "code",
   "execution_count": 2,
   "id": "0cc8f1b1",
   "metadata": {},
   "outputs": [
    {
     "data": {
      "text/plain": [
       "dict_keys(['client-id', 'api-key'])"
      ]
     },
     "execution_count": 2,
     "metadata": {},
     "output_type": "execute_result"
    }
   ],
   "source": [
    "import json\n",
    "with open('/Users/Admin/.secret/yelp_api.json') as f:\n",
    "    login = json.load(f)\n",
    "login.keys()"
   ]
  },
  {
   "cell_type": "code",
   "execution_count": 3,
   "id": "08b01a36",
   "metadata": {},
   "outputs": [
    {
     "data": {
      "text/plain": [
       "<yelpapi.yelpapi.YelpAPI at 0x1c99ec9dc40>"
      ]
     },
     "execution_count": 3,
     "metadata": {},
     "output_type": "execute_result"
    }
   ],
   "source": [
    "# import the YelpAPI Class\n",
    "from yelpapi import YelpAPI\n",
    "\n",
    "# Create an instance with your key\n",
    "yelp_api = YelpAPI(login['api-key'], timeout_s=5.0)\n",
    "yelp_api"
   ]
  },
  {
   "cell_type": "code",
   "execution_count": 4,
   "id": "2fecf700",
   "metadata": {},
   "outputs": [],
   "source": [
    "# set our API call parameters \n",
    "LOCATION = 'New Haven, CT'\n",
    "TERM = 'Seafood'"
   ]
  },
  {
   "cell_type": "code",
   "execution_count": 6,
   "id": "79bb5b24",
   "metadata": {},
   "outputs": [
    {
     "data": {
      "text/plain": [
       "'Data/results_in_progress_CT_Seafood.json'"
      ]
     },
     "execution_count": 6,
     "metadata": {},
     "output_type": "execute_result"
    }
   ],
   "source": [
    "# Specifying JSON_FILE filename\n",
    "JSON_FILE = \"Data/results_in_progress_CT_Seafood.json\"\n",
    "JSON_FILE"
   ]
  },
  {
   "cell_type": "code",
   "execution_count": 7,
   "id": "8fd4a9f9",
   "metadata": {},
   "outputs": [
    {
     "name": "stdout",
     "output_type": "stream",
     "text": [
      "[i] Data/results_in_progress_CT_Seafood.json not found. Saving empty list to file.\n"
     ]
    }
   ],
   "source": [
    "## Check if JSON_FILE exists\n",
    "file_exists = os.path.isfile(JSON_FILE)\n",
    "## If it does not exist: \n",
    "if file_exists == False:\n",
    "    \n",
    "    ## CREATE ANY NEEDED FOLDERS\n",
    "    # Get the Folder Name only\n",
    "    folder = os.path.dirname(JSON_FILE)\n",
    "    ## If JSON_FILE included a folder:\n",
    "    if len(folder)>0:\n",
    "        # create the folder\n",
    "        os.makedirs(folder,exist_ok=True)\n",
    "        \n",
    "        \n",
    "    ## INFORM USER AND SAVE EMPTY LIST\n",
    "    print(f'[i] {JSON_FILE} not found. Saving empty list to file.')\n",
    "    \n",
    "    \n",
    "    # save an empty list\n",
    "    with open(JSON_FILE,'w') as f:\n",
    "        json.dump([],f)  \n",
    "# If it exists, inform user\n",
    "else:\n",
    "    print(f\"[i] {JSON_FILE} already exists.\")"
   ]
  },
  {
   "cell_type": "code",
   "execution_count": 9,
   "id": "7e6d1d58",
   "metadata": {},
   "outputs": [
    {
     "name": "stdout",
     "output_type": "stream",
     "text": [
      "<class 'dict'>\n"
     ]
    },
    {
     "data": {
      "text/plain": [
       "dict_keys(['businesses', 'total', 'region'])"
      ]
     },
     "execution_count": 9,
     "metadata": {},
     "output_type": "execute_result"
    }
   ],
   "source": [
    "# our API call\n",
    "search_results = yelp_api.search_query(location='New Haven, CT',\n",
    "                                       term='Seafood')\n",
    "print(type(search_results))\n",
    "search_results.keys()"
   ]
  },
  {
   "cell_type": "code",
   "execution_count": 11,
   "id": "cf8d5682",
   "metadata": {
    "scrolled": true
   },
   "outputs": [
    {
     "data": {
      "text/plain": [
       "553"
      ]
     },
     "execution_count": 11,
     "metadata": {},
     "output_type": "execute_result"
    }
   ],
   "source": [
    "## How many results total?\n",
    "total_results = search_results['total']\n",
    "total_results\n",
    "\n"
   ]
  },
  {
   "cell_type": "code",
   "execution_count": 12,
   "id": "3dbe94ed",
   "metadata": {},
   "outputs": [
    {
     "data": {
      "text/plain": [
       "20"
      ]
     },
     "execution_count": 12,
     "metadata": {},
     "output_type": "execute_result"
    }
   ],
   "source": [
    "## How many did we get the details for?\n",
    "results_per_page = len(search_results['businesses'])\n",
    "results_per_page"
   ]
  },
  {
   "cell_type": "code",
   "execution_count": 15,
   "id": "e833e7f3",
   "metadata": {},
   "outputs": [
    {
     "name": "stdout",
     "output_type": "stream",
     "text": [
      "- 0 previous results found.\n"
     ]
    }
   ],
   "source": [
    "## Load previous results and use len of results for offset\n",
    "with open(JSON_FILE,'r') as f:\n",
    "    previous_results = json.load(f)\n",
    "    \n",
    "## set offset based on previous results\n",
    "n_results = len(previous_results)\n",
    "print(f'- {n_results} previous results found.')"
   ]
  },
  {
   "cell_type": "code",
   "execution_count": 16,
   "id": "44f81e31",
   "metadata": {},
   "outputs": [
    {
     "data": {
      "text/plain": [
       "28"
      ]
     },
     "execution_count": 16,
     "metadata": {},
     "output_type": "execute_result"
    }
   ],
   "source": [
    "# Import additional packages for controlling our loop\n",
    "import time, math\n",
    "# Use math.ceil to round up for the total number of pages of results.\n",
    "n_pages = math.ceil((search_results['total']-n_results)/ results_per_page)\n",
    "n_pages"
   ]
  },
  {
   "cell_type": "markdown",
   "id": "d5179c5e",
   "metadata": {},
   "source": [
    "Add this page of results to .json file"
   ]
  },
  {
   "cell_type": "code",
   "execution_count": 18,
   "id": "5f1e22fa",
   "metadata": {},
   "outputs": [],
   "source": [
    "# join new results with old list with extend and save to file\n",
    "previous_results.extend(search_results['businesses'])  \n",
    "with open(JSON_FILE,'w') as f:\n",
    "     json.dump(previous_results,f)"
   ]
  },
  {
   "cell_type": "code",
   "execution_count": 19,
   "id": "1387745b",
   "metadata": {},
   "outputs": [
    {
     "data": {
      "application/vnd.jupyter.widget-view+json": {
       "model_id": "adc576f69714408c86b706927792eaa7",
       "version_major": 2,
       "version_minor": 0
      },
      "text/plain": [
       "  0%|          | 0/28 [00:00<?, ?it/s]"
      ]
     },
     "metadata": {},
     "output_type": "display_data"
    }
   ],
   "source": [
    "import time\n",
    "for i in tqdm_notebook(range(n_pages)):\n",
    "    # adds 200 ms pause\n",
    "    time.sleep(.2) "
   ]
  },
  {
   "cell_type": "code",
   "execution_count": 20,
   "id": "b053680e",
   "metadata": {},
   "outputs": [
    {
     "data": {
      "application/vnd.jupyter.widget-view+json": {
       "model_id": "c86fdc6cb0ba4ff3bb3ef177e9404843",
       "version_major": 2,
       "version_minor": 0
      },
      "text/plain": [
       "  0%|          | 0/28 [00:00<?, ?it/s]"
      ]
     },
     "metadata": {},
     "output_type": "display_data"
    }
   ],
   "source": [
    "for i in tqdm_notebook( range(1,n_pages+1)):\n",
    "    \n",
    "    ## Read in results in progress file and check the length\n",
    "    with open(JSON_FILE, 'r') as f:\n",
    "        previous_results = json.load(f)\n",
    "    ## save number of results for to use as offset\n",
    "    n_results = len(previous_results)\n",
    "    ## use n_results as the OFFSET \n",
    "    search_results = yelp_api.search_query(location='New Haven, CT',\n",
    "                                    term='Seafood', \n",
    "                                    offset=n_results)\n",
    "    \n",
    "    ## append new results and save to file\n",
    "    previous_results.extend(search_results['businesses'])\n",
    "    \n",
    "    with open(JSON_FILE,'w') as f:\n",
    "        json.dump(previous_results,f)\n",
    "    \n",
    "    # add a 200ms pause\n",
    "    time.sleep(.2)\n",
    "\n"
   ]
  },
  {
   "cell_type": "code",
   "execution_count": 21,
   "id": "35416e8c",
   "metadata": {},
   "outputs": [
    {
     "data": {
      "text/html": [
       "<div>\n",
       "<style scoped>\n",
       "    .dataframe tbody tr th:only-of-type {\n",
       "        vertical-align: middle;\n",
       "    }\n",
       "\n",
       "    .dataframe tbody tr th {\n",
       "        vertical-align: top;\n",
       "    }\n",
       "\n",
       "    .dataframe thead th {\n",
       "        text-align: right;\n",
       "    }\n",
       "</style>\n",
       "<table border=\"1\" class=\"dataframe\">\n",
       "  <thead>\n",
       "    <tr style=\"text-align: right;\">\n",
       "      <th></th>\n",
       "      <th>id</th>\n",
       "      <th>alias</th>\n",
       "      <th>name</th>\n",
       "      <th>image_url</th>\n",
       "      <th>is_closed</th>\n",
       "      <th>url</th>\n",
       "      <th>review_count</th>\n",
       "      <th>categories</th>\n",
       "      <th>rating</th>\n",
       "      <th>coordinates</th>\n",
       "      <th>transactions</th>\n",
       "      <th>price</th>\n",
       "      <th>location</th>\n",
       "      <th>phone</th>\n",
       "      <th>display_phone</th>\n",
       "      <th>distance</th>\n",
       "    </tr>\n",
       "  </thead>\n",
       "  <tbody>\n",
       "    <tr>\n",
       "      <th>0</th>\n",
       "      <td>B6VlKBNeVpN4delxO2G_nA</td>\n",
       "      <td>shell-and-bones-oyster-bar-and-grill-new-haven-2</td>\n",
       "      <td>Shell &amp; Bones Oyster Bar and Grill</td>\n",
       "      <td>https://s3-media1.fl.yelpcdn.com/bphoto/K1ic7Y...</td>\n",
       "      <td>False</td>\n",
       "      <td>https://www.yelp.com/biz/shell-and-bones-oyste...</td>\n",
       "      <td>811</td>\n",
       "      <td>[{'alias': 'seafood', 'title': 'Seafood'}, {'a...</td>\n",
       "      <td>4.0</td>\n",
       "      <td>{'latitude': 41.280462628599174, 'longitude': ...</td>\n",
       "      <td>[pickup, delivery]</td>\n",
       "      <td>$$$</td>\n",
       "      <td>{'address1': '100 S Water St', 'address2': '',...</td>\n",
       "      <td>+12037873466</td>\n",
       "      <td>(203) 787-3466</td>\n",
       "      <td>1994.395259</td>\n",
       "    </tr>\n",
       "    <tr>\n",
       "      <th>1</th>\n",
       "      <td>_MmBzKbN2Ec3lETacBofJg</td>\n",
       "      <td>fair-haven-oyster-new-haven-16</td>\n",
       "      <td>Fair Haven Oyster</td>\n",
       "      <td>https://s3-media2.fl.yelpcdn.com/bphoto/Cf4R0H...</td>\n",
       "      <td>False</td>\n",
       "      <td>https://www.yelp.com/biz/fair-haven-oyster-new...</td>\n",
       "      <td>34</td>\n",
       "      <td>[{'alias': 'seafood', 'title': 'Seafood'}, {'a...</td>\n",
       "      <td>4.5</td>\n",
       "      <td>{'latitude': 41.31411, 'longitude': -72.88731}</td>\n",
       "      <td>[]</td>\n",
       "      <td>NaN</td>\n",
       "      <td>{'address1': '307 Front St', 'address2': '', '...</td>\n",
       "      <td>+12037455741</td>\n",
       "      <td>(203) 745-5741</td>\n",
       "      <td>3941.063207</td>\n",
       "    </tr>\n",
       "    <tr>\n",
       "      <th>2</th>\n",
       "      <td>BeLg5ZI2x34yqNtwiUhw_Q</td>\n",
       "      <td>stowes-seafood-west-haven</td>\n",
       "      <td>Stowe's Seafood</td>\n",
       "      <td>https://s3-media3.fl.yelpcdn.com/bphoto/ubNzhI...</td>\n",
       "      <td>False</td>\n",
       "      <td>https://www.yelp.com/biz/stowes-seafood-west-h...</td>\n",
       "      <td>399</td>\n",
       "      <td>[{'alias': 'seafood', 'title': 'Seafood'}, {'a...</td>\n",
       "      <td>4.0</td>\n",
       "      <td>{'latitude': 41.258886, 'longitude': -72.941949}</td>\n",
       "      <td>[delivery]</td>\n",
       "      <td>$$</td>\n",
       "      <td>{'address1': '347 Beach St', 'address2': '', '...</td>\n",
       "      <td>+12039341991</td>\n",
       "      <td>(203) 934-1991</td>\n",
       "      <td>4517.014908</td>\n",
       "    </tr>\n",
       "    <tr>\n",
       "      <th>3</th>\n",
       "      <td>2xX2FdvndEFoz4-8eGMU8w</td>\n",
       "      <td>d-amatos-seafood-new-haven-2</td>\n",
       "      <td>D'Amato's Seafood</td>\n",
       "      <td>https://s3-media1.fl.yelpcdn.com/bphoto/_Ht-nV...</td>\n",
       "      <td>False</td>\n",
       "      <td>https://www.yelp.com/biz/d-amatos-seafood-new-...</td>\n",
       "      <td>74</td>\n",
       "      <td>[{'alias': 'seafoodmarkets', 'title': 'Seafood...</td>\n",
       "      <td>4.5</td>\n",
       "      <td>{'latitude': 41.3185252319592, 'longitude': -7...</td>\n",
       "      <td>[pickup, delivery]</td>\n",
       "      <td>$$</td>\n",
       "      <td>{'address1': '423 Whalley Ave', 'address2': No...</td>\n",
       "      <td>+12034982722</td>\n",
       "      <td>(203) 498-2722</td>\n",
       "      <td>2697.566514</td>\n",
       "    </tr>\n",
       "    <tr>\n",
       "      <th>4</th>\n",
       "      <td>BNHXedSBgOWRtK9rImHq1A</td>\n",
       "      <td>sandbar-seafood-west-haven</td>\n",
       "      <td>Sandbar Seafood</td>\n",
       "      <td>https://s3-media4.fl.yelpcdn.com/bphoto/R0bGKY...</td>\n",
       "      <td>False</td>\n",
       "      <td>https://www.yelp.com/biz/sandbar-seafood-west-...</td>\n",
       "      <td>119</td>\n",
       "      <td>[{'alias': 'seafood', 'title': 'Seafood'}, {'a...</td>\n",
       "      <td>4.0</td>\n",
       "      <td>{'latitude': 41.280634, 'longitude': -72.9395771}</td>\n",
       "      <td>[pickup, delivery]</td>\n",
       "      <td>$$</td>\n",
       "      <td>{'address1': '31 Kimberly Ave', 'address2': ''...</td>\n",
       "      <td>+12039333700</td>\n",
       "      <td>(203) 933-3700</td>\n",
       "      <td>2200.704509</td>\n",
       "    </tr>\n",
       "  </tbody>\n",
       "</table>\n",
       "</div>"
      ],
      "text/plain": [
       "                       id                                             alias  \\\n",
       "0  B6VlKBNeVpN4delxO2G_nA  shell-and-bones-oyster-bar-and-grill-new-haven-2   \n",
       "1  _MmBzKbN2Ec3lETacBofJg                    fair-haven-oyster-new-haven-16   \n",
       "2  BeLg5ZI2x34yqNtwiUhw_Q                         stowes-seafood-west-haven   \n",
       "3  2xX2FdvndEFoz4-8eGMU8w                      d-amatos-seafood-new-haven-2   \n",
       "4  BNHXedSBgOWRtK9rImHq1A                        sandbar-seafood-west-haven   \n",
       "\n",
       "                                 name  \\\n",
       "0  Shell & Bones Oyster Bar and Grill   \n",
       "1                   Fair Haven Oyster   \n",
       "2                     Stowe's Seafood   \n",
       "3                   D'Amato's Seafood   \n",
       "4                     Sandbar Seafood   \n",
       "\n",
       "                                           image_url  is_closed  \\\n",
       "0  https://s3-media1.fl.yelpcdn.com/bphoto/K1ic7Y...      False   \n",
       "1  https://s3-media2.fl.yelpcdn.com/bphoto/Cf4R0H...      False   \n",
       "2  https://s3-media3.fl.yelpcdn.com/bphoto/ubNzhI...      False   \n",
       "3  https://s3-media1.fl.yelpcdn.com/bphoto/_Ht-nV...      False   \n",
       "4  https://s3-media4.fl.yelpcdn.com/bphoto/R0bGKY...      False   \n",
       "\n",
       "                                                 url  review_count  \\\n",
       "0  https://www.yelp.com/biz/shell-and-bones-oyste...           811   \n",
       "1  https://www.yelp.com/biz/fair-haven-oyster-new...            34   \n",
       "2  https://www.yelp.com/biz/stowes-seafood-west-h...           399   \n",
       "3  https://www.yelp.com/biz/d-amatos-seafood-new-...            74   \n",
       "4  https://www.yelp.com/biz/sandbar-seafood-west-...           119   \n",
       "\n",
       "                                          categories  rating  \\\n",
       "0  [{'alias': 'seafood', 'title': 'Seafood'}, {'a...     4.0   \n",
       "1  [{'alias': 'seafood', 'title': 'Seafood'}, {'a...     4.5   \n",
       "2  [{'alias': 'seafood', 'title': 'Seafood'}, {'a...     4.0   \n",
       "3  [{'alias': 'seafoodmarkets', 'title': 'Seafood...     4.5   \n",
       "4  [{'alias': 'seafood', 'title': 'Seafood'}, {'a...     4.0   \n",
       "\n",
       "                                         coordinates        transactions  \\\n",
       "0  {'latitude': 41.280462628599174, 'longitude': ...  [pickup, delivery]   \n",
       "1     {'latitude': 41.31411, 'longitude': -72.88731}                  []   \n",
       "2   {'latitude': 41.258886, 'longitude': -72.941949}          [delivery]   \n",
       "3  {'latitude': 41.3185252319592, 'longitude': -7...  [pickup, delivery]   \n",
       "4  {'latitude': 41.280634, 'longitude': -72.9395771}  [pickup, delivery]   \n",
       "\n",
       "  price                                           location         phone  \\\n",
       "0   $$$  {'address1': '100 S Water St', 'address2': '',...  +12037873466   \n",
       "1   NaN  {'address1': '307 Front St', 'address2': '', '...  +12037455741   \n",
       "2    $$  {'address1': '347 Beach St', 'address2': '', '...  +12039341991   \n",
       "3    $$  {'address1': '423 Whalley Ave', 'address2': No...  +12034982722   \n",
       "4    $$  {'address1': '31 Kimberly Ave', 'address2': ''...  +12039333700   \n",
       "\n",
       "    display_phone     distance  \n",
       "0  (203) 787-3466  1994.395259  \n",
       "1  (203) 745-5741  3941.063207  \n",
       "2  (203) 934-1991  4517.014908  \n",
       "3  (203) 498-2722  2697.566514  \n",
       "4  (203) 933-3700  2200.704509  "
      ]
     },
     "metadata": {},
     "output_type": "display_data"
    },
    {
     "data": {
      "text/html": [
       "<div>\n",
       "<style scoped>\n",
       "    .dataframe tbody tr th:only-of-type {\n",
       "        vertical-align: middle;\n",
       "    }\n",
       "\n",
       "    .dataframe tbody tr th {\n",
       "        vertical-align: top;\n",
       "    }\n",
       "\n",
       "    .dataframe thead th {\n",
       "        text-align: right;\n",
       "    }\n",
       "</style>\n",
       "<table border=\"1\" class=\"dataframe\">\n",
       "  <thead>\n",
       "    <tr style=\"text-align: right;\">\n",
       "      <th></th>\n",
       "      <th>id</th>\n",
       "      <th>alias</th>\n",
       "      <th>name</th>\n",
       "      <th>image_url</th>\n",
       "      <th>is_closed</th>\n",
       "      <th>url</th>\n",
       "      <th>review_count</th>\n",
       "      <th>categories</th>\n",
       "      <th>rating</th>\n",
       "      <th>coordinates</th>\n",
       "      <th>transactions</th>\n",
       "      <th>price</th>\n",
       "      <th>location</th>\n",
       "      <th>phone</th>\n",
       "      <th>display_phone</th>\n",
       "      <th>distance</th>\n",
       "    </tr>\n",
       "  </thead>\n",
       "  <tbody>\n",
       "    <tr>\n",
       "      <th>548</th>\n",
       "      <td>-NTCrJ9ouItMtPcf2obcXw</td>\n",
       "      <td>bella-napoli-pizza-milford</td>\n",
       "      <td>Bella Napoli Pizza</td>\n",
       "      <td>https://s3-media2.fl.yelpcdn.com/bphoto/vWQzHB...</td>\n",
       "      <td>False</td>\n",
       "      <td>https://www.yelp.com/biz/bella-napoli-pizza-mi...</td>\n",
       "      <td>97</td>\n",
       "      <td>[{'alias': 'pizza', 'title': 'Pizza'}, {'alias...</td>\n",
       "      <td>2.5</td>\n",
       "      <td>{'latitude': 41.2322836, 'longitude': -73.0526...</td>\n",
       "      <td>[delivery]</td>\n",
       "      <td>$$</td>\n",
       "      <td>{'address1': '864 Boston Post Rd', 'address2':...</td>\n",
       "      <td>+12038771102</td>\n",
       "      <td>(203) 877-1102</td>\n",
       "      <td>12634.556996</td>\n",
       "    </tr>\n",
       "    <tr>\n",
       "      <th>549</th>\n",
       "      <td>7FYsi_ZZMtHsrjjzVKrAVQ</td>\n",
       "      <td>silver-sands-pizza-milford</td>\n",
       "      <td>Silver Sands Pizza</td>\n",
       "      <td>https://s3-media1.fl.yelpcdn.com/bphoto/n3DSe8...</td>\n",
       "      <td>False</td>\n",
       "      <td>https://www.yelp.com/biz/silver-sands-pizza-mi...</td>\n",
       "      <td>54</td>\n",
       "      <td>[{'alias': 'pizza', 'title': 'Pizza'}]</td>\n",
       "      <td>3.0</td>\n",
       "      <td>{'latitude': 41.22669, 'longitude': -73.06991}</td>\n",
       "      <td>[pickup, delivery]</td>\n",
       "      <td>$$</td>\n",
       "      <td>{'address1': '415 Boston Post Rd', 'address2':...</td>\n",
       "      <td>+12038820220</td>\n",
       "      <td>(203) 882-0220</td>\n",
       "      <td>14194.208584</td>\n",
       "    </tr>\n",
       "    <tr>\n",
       "      <th>550</th>\n",
       "      <td>9PIqSAnGl6MmuKmg_cTp3Q</td>\n",
       "      <td>star-pizza-stratford-2</td>\n",
       "      <td>Star Pizza</td>\n",
       "      <td>https://s3-media1.fl.yelpcdn.com/bphoto/0HArXZ...</td>\n",
       "      <td>False</td>\n",
       "      <td>https://www.yelp.com/biz/star-pizza-stratford-...</td>\n",
       "      <td>31</td>\n",
       "      <td>[{'alias': 'pizza', 'title': 'Pizza'}]</td>\n",
       "      <td>2.5</td>\n",
       "      <td>{'latitude': 41.19834, 'longitude': -73.13373}</td>\n",
       "      <td>[pickup, delivery]</td>\n",
       "      <td>$</td>\n",
       "      <td>{'address1': '1101 Barnum Ave', 'address2': ''...</td>\n",
       "      <td>+12033869243</td>\n",
       "      <td>(203) 386-9243</td>\n",
       "      <td>20350.312910</td>\n",
       "    </tr>\n",
       "    <tr>\n",
       "      <th>551</th>\n",
       "      <td>o8vOaYYCxK5JnxiBD1eRJA</td>\n",
       "      <td>wayback-burgers-stratford</td>\n",
       "      <td>Wayback Burgers</td>\n",
       "      <td>https://s3-media2.fl.yelpcdn.com/bphoto/mMHkT6...</td>\n",
       "      <td>False</td>\n",
       "      <td>https://www.yelp.com/biz/wayback-burgers-strat...</td>\n",
       "      <td>75</td>\n",
       "      <td>[{'alias': 'tradamerican', 'title': 'American ...</td>\n",
       "      <td>3.0</td>\n",
       "      <td>{'latitude': 41.19924, 'longitude': -73.13146}</td>\n",
       "      <td>[pickup, delivery]</td>\n",
       "      <td>$$</td>\n",
       "      <td>{'address1': '2850 Main St', 'address2': '', '...</td>\n",
       "      <td>+12039083400</td>\n",
       "      <td>(203) 908-3400</td>\n",
       "      <td>20147.693349</td>\n",
       "    </tr>\n",
       "    <tr>\n",
       "      <th>552</th>\n",
       "      <td>l_uy4MegoZJS5_zDfs4kDw</td>\n",
       "      <td>hong-kong-tokyo-stratford</td>\n",
       "      <td>Hong Kong Tokyo</td>\n",
       "      <td>https://s3-media3.fl.yelpcdn.com/bphoto/o_1azp...</td>\n",
       "      <td>False</td>\n",
       "      <td>https://www.yelp.com/biz/hong-kong-tokyo-strat...</td>\n",
       "      <td>55</td>\n",
       "      <td>[{'alias': 'asianfusion', 'title': 'Asian Fusi...</td>\n",
       "      <td>3.0</td>\n",
       "      <td>{'latitude': 41.19718519320253, 'longitude': -...</td>\n",
       "      <td>[pickup, delivery]</td>\n",
       "      <td>$$</td>\n",
       "      <td>{'address1': '411 Barnum Ave', 'address2': '',...</td>\n",
       "      <td>+12033789211</td>\n",
       "      <td>(203) 378-9211</td>\n",
       "      <td>19688.492862</td>\n",
       "    </tr>\n",
       "  </tbody>\n",
       "</table>\n",
       "</div>"
      ],
      "text/plain": [
       "                         id                       alias                name  \\\n",
       "548  -NTCrJ9ouItMtPcf2obcXw  bella-napoli-pizza-milford  Bella Napoli Pizza   \n",
       "549  7FYsi_ZZMtHsrjjzVKrAVQ  silver-sands-pizza-milford  Silver Sands Pizza   \n",
       "550  9PIqSAnGl6MmuKmg_cTp3Q      star-pizza-stratford-2          Star Pizza   \n",
       "551  o8vOaYYCxK5JnxiBD1eRJA   wayback-burgers-stratford     Wayback Burgers   \n",
       "552  l_uy4MegoZJS5_zDfs4kDw   hong-kong-tokyo-stratford     Hong Kong Tokyo   \n",
       "\n",
       "                                             image_url  is_closed  \\\n",
       "548  https://s3-media2.fl.yelpcdn.com/bphoto/vWQzHB...      False   \n",
       "549  https://s3-media1.fl.yelpcdn.com/bphoto/n3DSe8...      False   \n",
       "550  https://s3-media1.fl.yelpcdn.com/bphoto/0HArXZ...      False   \n",
       "551  https://s3-media2.fl.yelpcdn.com/bphoto/mMHkT6...      False   \n",
       "552  https://s3-media3.fl.yelpcdn.com/bphoto/o_1azp...      False   \n",
       "\n",
       "                                                   url  review_count  \\\n",
       "548  https://www.yelp.com/biz/bella-napoli-pizza-mi...            97   \n",
       "549  https://www.yelp.com/biz/silver-sands-pizza-mi...            54   \n",
       "550  https://www.yelp.com/biz/star-pizza-stratford-...            31   \n",
       "551  https://www.yelp.com/biz/wayback-burgers-strat...            75   \n",
       "552  https://www.yelp.com/biz/hong-kong-tokyo-strat...            55   \n",
       "\n",
       "                                            categories  rating  \\\n",
       "548  [{'alias': 'pizza', 'title': 'Pizza'}, {'alias...     2.5   \n",
       "549             [{'alias': 'pizza', 'title': 'Pizza'}]     3.0   \n",
       "550             [{'alias': 'pizza', 'title': 'Pizza'}]     2.5   \n",
       "551  [{'alias': 'tradamerican', 'title': 'American ...     3.0   \n",
       "552  [{'alias': 'asianfusion', 'title': 'Asian Fusi...     3.0   \n",
       "\n",
       "                                           coordinates        transactions  \\\n",
       "548  {'latitude': 41.2322836, 'longitude': -73.0526...          [delivery]   \n",
       "549     {'latitude': 41.22669, 'longitude': -73.06991}  [pickup, delivery]   \n",
       "550     {'latitude': 41.19834, 'longitude': -73.13373}  [pickup, delivery]   \n",
       "551     {'latitude': 41.19924, 'longitude': -73.13146}  [pickup, delivery]   \n",
       "552  {'latitude': 41.19718519320253, 'longitude': -...  [pickup, delivery]   \n",
       "\n",
       "    price                                           location         phone  \\\n",
       "548    $$  {'address1': '864 Boston Post Rd', 'address2':...  +12038771102   \n",
       "549    $$  {'address1': '415 Boston Post Rd', 'address2':...  +12038820220   \n",
       "550     $  {'address1': '1101 Barnum Ave', 'address2': ''...  +12033869243   \n",
       "551    $$  {'address1': '2850 Main St', 'address2': '', '...  +12039083400   \n",
       "552    $$  {'address1': '411 Barnum Ave', 'address2': '',...  +12033789211   \n",
       "\n",
       "      display_phone      distance  \n",
       "548  (203) 877-1102  12634.556996  \n",
       "549  (203) 882-0220  14194.208584  \n",
       "550  (203) 386-9243  20350.312910  \n",
       "551  (203) 908-3400  20147.693349  \n",
       "552  (203) 378-9211  19688.492862  "
      ]
     },
     "metadata": {},
     "output_type": "display_data"
    }
   ],
   "source": [
    "# loading our final results\n",
    "final_df = pd.read_json(JSON_FILE)\n",
    "display(final_df.head(), final_df.tail())"
   ]
  },
  {
   "cell_type": "code",
   "execution_count": 22,
   "id": "351a0f12",
   "metadata": {},
   "outputs": [
    {
     "data": {
      "text/plain": [
       "0"
      ]
     },
     "execution_count": 22,
     "metadata": {},
     "output_type": "execute_result"
    }
   ],
   "source": [
    "# check for duplicate ID's \n",
    "final_df.duplicated(subset='id').sum()"
   ]
  },
  {
   "cell_type": "code",
   "execution_count": 23,
   "id": "47888425",
   "metadata": {},
   "outputs": [],
   "source": [
    "# save the final results to a compressed csv\n",
    "final_df.to_csv('Data/results_in_progress_CT_Seafood.csv.gz', compression='gzip',index=False)"
   ]
  },
  {
   "cell_type": "code",
   "execution_count": null,
   "id": "a3682509",
   "metadata": {},
   "outputs": [],
   "source": []
  }
 ],
 "metadata": {
  "kernelspec": {
   "display_name": "Python (dojo-env)",
   "language": "python",
   "name": "dojo-env"
  },
  "language_info": {
   "codemirror_mode": {
    "name": "ipython",
    "version": 3
   },
   "file_extension": ".py",
   "mimetype": "text/x-python",
   "name": "python",
   "nbconvert_exporter": "python",
   "pygments_lexer": "ipython3",
   "version": "3.9.15"
  },
  "toc": {
   "base_numbering": 1,
   "nav_menu": {},
   "number_sections": false,
   "sideBar": true,
   "skip_h1_title": false,
   "title_cell": "Table of Contents",
   "title_sidebar": "Contents",
   "toc_cell": false,
   "toc_position": {},
   "toc_section_display": true,
   "toc_window_display": false
  }
 },
 "nbformat": 4,
 "nbformat_minor": 5
}
